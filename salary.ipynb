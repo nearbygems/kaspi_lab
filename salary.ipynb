{
 "cells": [
  {
   "cell_type": "code",
   "execution_count": 841,
   "metadata": {
    "collapsed": true
   },
   "outputs": [],
   "source": [
    "import pandas as pd"
   ]
  },
  {
   "cell_type": "code",
   "execution_count": 842,
   "outputs": [
    {
     "data": {
      "text/plain": "   Id  algebra  programming  data science  robotics  economics  \\\n0   0       87           62            86        61         90   \n1   1       76           84            76        80         79   \n2   2       56           55            99        82         98   \n\n                job  salary  \n0  junior developer  140000  \n1    data scientist  780000  \n2         developer  210000  ",
      "text/html": "<div>\n<style scoped>\n    .dataframe tbody tr th:only-of-type {\n        vertical-align: middle;\n    }\n\n    .dataframe tbody tr th {\n        vertical-align: top;\n    }\n\n    .dataframe thead th {\n        text-align: right;\n    }\n</style>\n<table border=\"1\" class=\"dataframe\">\n  <thead>\n    <tr style=\"text-align: right;\">\n      <th></th>\n      <th>Id</th>\n      <th>algebra</th>\n      <th>programming</th>\n      <th>data science</th>\n      <th>robotics</th>\n      <th>economics</th>\n      <th>job</th>\n      <th>salary</th>\n    </tr>\n  </thead>\n  <tbody>\n    <tr>\n      <th>0</th>\n      <td>0</td>\n      <td>87</td>\n      <td>62</td>\n      <td>86</td>\n      <td>61</td>\n      <td>90</td>\n      <td>junior developer</td>\n      <td>140000</td>\n    </tr>\n    <tr>\n      <th>1</th>\n      <td>1</td>\n      <td>76</td>\n      <td>84</td>\n      <td>76</td>\n      <td>80</td>\n      <td>79</td>\n      <td>data scientist</td>\n      <td>780000</td>\n    </tr>\n    <tr>\n      <th>2</th>\n      <td>2</td>\n      <td>56</td>\n      <td>55</td>\n      <td>99</td>\n      <td>82</td>\n      <td>98</td>\n      <td>developer</td>\n      <td>210000</td>\n    </tr>\n  </tbody>\n</table>\n</div>"
     },
     "execution_count": 842,
     "metadata": {},
     "output_type": "execute_result"
    }
   ],
   "source": [
    "train_data = pd.read_csv('salary_train.csv', header=0, sep=',')\n",
    "\n",
    "train_data.head(3)"
   ],
   "metadata": {
    "collapsed": false,
    "pycharm": {
     "name": "#%%\n"
    }
   }
  },
  {
   "cell_type": "code",
   "execution_count": 843,
   "outputs": [
    {
     "data": {
      "text/plain": "90000"
     },
     "execution_count": 843,
     "metadata": {},
     "output_type": "execute_result"
    }
   ],
   "source": [
    "train_data.salary.min()"
   ],
   "metadata": {
    "collapsed": false,
    "pycharm": {
     "name": "#%%\n"
    }
   }
  },
  {
   "cell_type": "code",
   "execution_count": 844,
   "outputs": [
    {
     "data": {
      "text/plain": "1350000"
     },
     "execution_count": 844,
     "metadata": {},
     "output_type": "execute_result"
    }
   ],
   "source": [
    "train_data.salary.max()"
   ],
   "metadata": {
    "collapsed": false,
    "pycharm": {
     "name": "#%%\n"
    }
   }
  },
  {
   "cell_type": "code",
   "execution_count": 845,
   "outputs": [],
   "source": [
    "# predict_data = pd.read_csv('salary_predict.csv', header=0, sep=',')\n",
    "\n",
    "# predict_data.head(3)"
   ],
   "metadata": {
    "collapsed": false,
    "pycharm": {
     "name": "#%%\n"
    }
   }
  },
  {
   "cell_type": "code",
   "execution_count": 846,
   "outputs": [],
   "source": [
    "# проверяю наличие nan\n",
    "assert train_data.isna().sum().sum() == 0\n",
    "# assert predict_data.isna().sum().sum() == 0"
   ],
   "metadata": {
    "collapsed": false,
    "pycharm": {
     "name": "#%%\n"
    }
   }
  },
  {
   "cell_type": "code",
   "execution_count": 847,
   "outputs": [
    {
     "name": "stdout",
     "output_type": "stream",
     "text": [
      "<class 'pandas.core.frame.DataFrame'>\n",
      "RangeIndex: 9000 entries, 0 to 8999\n",
      "Data columns (total 8 columns):\n",
      " #   Column        Non-Null Count  Dtype \n",
      "---  ------        --------------  ----- \n",
      " 0   Id            9000 non-null   int64 \n",
      " 1   algebra       9000 non-null   int64 \n",
      " 2   programming   9000 non-null   int64 \n",
      " 3   data science  9000 non-null   int64 \n",
      " 4   robotics      9000 non-null   int64 \n",
      " 5   economics     9000 non-null   int64 \n",
      " 6   job           9000 non-null   object\n",
      " 7   salary        9000 non-null   int64 \n",
      "dtypes: int64(7), object(1)\n",
      "memory usage: 562.6+ KB\n"
     ]
    }
   ],
   "source": [
    "train_data.info()"
   ],
   "metadata": {
    "collapsed": false,
    "pycharm": {
     "name": "#%%\n"
    }
   }
  },
  {
   "cell_type": "code",
   "execution_count": 848,
   "outputs": [],
   "source": [
    "# predict_data.info()"
   ],
   "metadata": {
    "collapsed": false,
    "pycharm": {
     "name": "#%%\n"
    }
   }
  },
  {
   "cell_type": "code",
   "execution_count": 849,
   "outputs": [],
   "source": [
    "# заменяю наименования должностей на категорию\n",
    "train_jobs = train_data.job.unique()\n",
    "# predict_jobs = predict_data.job.unique()\n",
    "\n",
    "# assert len(train_jobs) == len(predict_jobs)\n",
    "#\n",
    "# for job in train_jobs:\n",
    "#     assert job in predict_jobs\n",
    "\n",
    "jobs_dict = dict(zip(train_jobs, range(1, len(train_jobs) + 1)))\n",
    "\n",
    "train_data['job_category'] = train_data.job.map(jobs_dict)\n",
    "# predict_data['job_category'] = predict_data.job.map(jobs_dict)"
   ],
   "metadata": {
    "collapsed": false,
    "pycharm": {
     "name": "#%%\n"
    }
   }
  },
  {
   "cell_type": "code",
   "execution_count": 850,
   "outputs": [
    {
     "name": "stdout",
     "output_type": "stream",
     "text": [
      "<class 'pandas.core.frame.DataFrame'>\n",
      "RangeIndex: 9000 entries, 0 to 8999\n",
      "Data columns (total 7 columns):\n",
      " #   Column        Non-Null Count  Dtype\n",
      "---  ------        --------------  -----\n",
      " 0   algebra       9000 non-null   int64\n",
      " 1   programming   9000 non-null   int64\n",
      " 2   data science  9000 non-null   int64\n",
      " 3   robotics      9000 non-null   int64\n",
      " 4   economics     9000 non-null   int64\n",
      " 5   salary        9000 non-null   int64\n",
      " 6   job_category  9000 non-null   int64\n",
      "dtypes: int64(7)\n",
      "memory usage: 492.3 KB\n"
     ]
    }
   ],
   "source": [
    "train_data.drop(train_data.job.name, axis=1, inplace=True)\n",
    "train_data.drop(train_data.Id.name, axis=1, inplace=True)\n",
    "\n",
    "train_data.info()"
   ],
   "metadata": {
    "collapsed": false,
    "pycharm": {
     "name": "#%%\n"
    }
   }
  },
  {
   "cell_type": "code",
   "execution_count": 851,
   "outputs": [],
   "source": [
    "# predict_data.drop(predict_data.job.name, axis=1, inplace=True)\n",
    "# ids = predict_data.Id\n",
    "# predict_data.drop(predict_data.Id.name, axis=1, inplace=True)\n",
    "\n",
    "# predict_data.info()"
   ],
   "metadata": {
    "collapsed": false,
    "pycharm": {
     "name": "#%%\n"
    }
   }
  },
  {
   "cell_type": "code",
   "execution_count": 852,
   "outputs": [],
   "source": [
    "# разбиваю данные на X & y\n",
    "\n",
    "X_train = train_data.drop(train_data.salary.name, axis=1)\n",
    "y_train = train_data.salary\n",
    "\n",
    "# X_predict = predict_data.drop(predict_data.salary.name, axis=1)"
   ],
   "metadata": {
    "collapsed": false,
    "pycharm": {
     "name": "#%%\n"
    }
   }
  },
  {
   "cell_type": "code",
   "execution_count": 853,
   "outputs": [
    {
     "data": {
      "text/plain": "   algebra  programming  data science  robotics  economics  job_category\n0       87           62            86        61         90             1\n1       76           84            76        80         79             2\n2       56           55            99        82         98             3",
      "text/html": "<div>\n<style scoped>\n    .dataframe tbody tr th:only-of-type {\n        vertical-align: middle;\n    }\n\n    .dataframe tbody tr th {\n        vertical-align: top;\n    }\n\n    .dataframe thead th {\n        text-align: right;\n    }\n</style>\n<table border=\"1\" class=\"dataframe\">\n  <thead>\n    <tr style=\"text-align: right;\">\n      <th></th>\n      <th>algebra</th>\n      <th>programming</th>\n      <th>data science</th>\n      <th>robotics</th>\n      <th>economics</th>\n      <th>job_category</th>\n    </tr>\n  </thead>\n  <tbody>\n    <tr>\n      <th>0</th>\n      <td>87</td>\n      <td>62</td>\n      <td>86</td>\n      <td>61</td>\n      <td>90</td>\n      <td>1</td>\n    </tr>\n    <tr>\n      <th>1</th>\n      <td>76</td>\n      <td>84</td>\n      <td>76</td>\n      <td>80</td>\n      <td>79</td>\n      <td>2</td>\n    </tr>\n    <tr>\n      <th>2</th>\n      <td>56</td>\n      <td>55</td>\n      <td>99</td>\n      <td>82</td>\n      <td>98</td>\n      <td>3</td>\n    </tr>\n  </tbody>\n</table>\n</div>"
     },
     "execution_count": 853,
     "metadata": {},
     "output_type": "execute_result"
    }
   ],
   "source": [
    "X_train.head(3)"
   ],
   "metadata": {
    "collapsed": false,
    "pycharm": {
     "name": "#%%\n"
    }
   }
  },
  {
   "cell_type": "code",
   "execution_count": 854,
   "outputs": [],
   "source": [
    "# X_predict.head(3)"
   ],
   "metadata": {
    "collapsed": false,
    "pycharm": {
     "name": "#%%\n"
    }
   }
  },
  {
   "cell_type": "code",
   "execution_count": 855,
   "outputs": [
    {
     "data": {
      "text/plain": "0    140000\n1    780000\n2    210000\nName: salary, dtype: int64"
     },
     "execution_count": 855,
     "metadata": {},
     "output_type": "execute_result"
    }
   ],
   "source": [
    "y_train.head(3)"
   ],
   "metadata": {
    "collapsed": false,
    "pycharm": {
     "name": "#%%\n"
    }
   }
  },
  {
   "cell_type": "code",
   "execution_count": 856,
   "outputs": [
    {
     "data": {
      "text/plain": "RandomForestRegressor(n_jobs=-1)"
     },
     "execution_count": 856,
     "metadata": {},
     "output_type": "execute_result"
    }
   ],
   "source": [
    "from sklearn.ensemble import RandomForestRegressor\n",
    "from sklearn.model_selection import train_test_split\n",
    "X, X_test, y, y_test = train_test_split(X_train, y_train, test_size=0.2, random_state=42)\n",
    "model = RandomForestRegressor(n_jobs=-1)\n",
    "model.fit(X, y)"
   ],
   "metadata": {
    "collapsed": false,
    "pycharm": {
     "name": "#%%\n"
    }
   }
  },
  {
   "cell_type": "code",
   "execution_count": 857,
   "outputs": [
    {
     "data": {
      "text/plain": "39444.27777777778"
     },
     "execution_count": 857,
     "metadata": {},
     "output_type": "execute_result"
    }
   ],
   "source": [
    "from sklearn.metrics import mean_absolute_error\n",
    "y_pred = model.predict(X_test)\n",
    "mae_rf = mean_absolute_error(y_test, y_pred)\n",
    "mae_rf"
   ],
   "metadata": {
    "collapsed": false,
    "pycharm": {
     "name": "#%%\n"
    }
   }
  },
  {
   "cell_type": "code",
   "execution_count": 858,
   "outputs": [],
   "source": [
    "# # особо не парился с выбором модели, RandomForestRegressor подойдет\n",
    "#\n",
    "# from sklearn.ensemble import RandomForestRegressor\n",
    "#\n",
    "# model = RandomForestRegressor(n_jobs=-1)\n",
    "# model.fit(X_train, y_train)\n",
    "#"
   ],
   "metadata": {
    "collapsed": false,
    "pycharm": {
     "name": "#%%\n"
    }
   }
  },
  {
   "cell_type": "code",
   "execution_count": 859,
   "outputs": [],
   "source": [
    "# y_predict = pd.DataFrame(ids)\n",
    "# y_predict['salary'] = model.predict(X_predict)\n",
    "# y_predict.loc[y_predict.salary > 1000000, y_predict.salary.name] = 1000000\n",
    "#\n",
    "# y_predict.to_csv('salary_submition.csv', sep=',', header=True, index=False)\n",
    "#\n",
    "# y_predict"
   ],
   "metadata": {
    "collapsed": false,
    "pycharm": {
     "name": "#%%\n"
    }
   }
  }
 ],
 "metadata": {
  "kernelspec": {
   "display_name": "Python 3",
   "language": "python",
   "name": "python3"
  },
  "language_info": {
   "codemirror_mode": {
    "name": "ipython",
    "version": 2
   },
   "file_extension": ".py",
   "mimetype": "text/x-python",
   "name": "python",
   "nbconvert_exporter": "python",
   "pygments_lexer": "ipython2",
   "version": "2.7.6"
  }
 },
 "nbformat": 4,
 "nbformat_minor": 0
}