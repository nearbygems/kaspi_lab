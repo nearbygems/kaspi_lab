{
 "cells": [
  {
   "cell_type": "code",
   "execution_count": 1554,
   "outputs": [
    {
     "data": {
      "text/plain": "   Id  algebra  programming  data science  robotics  economics  \\\n0   0       87           62            86        61         90   \n1   1       76           84            76        80         79   \n2   2       56           55            99        82         98   \n\n                job  salary  \n0  junior developer  140000  \n1    data scientist  780000  \n2         developer  210000  ",
      "text/html": "<div>\n<style scoped>\n    .dataframe tbody tr th:only-of-type {\n        vertical-align: middle;\n    }\n\n    .dataframe tbody tr th {\n        vertical-align: top;\n    }\n\n    .dataframe thead th {\n        text-align: right;\n    }\n</style>\n<table border=\"1\" class=\"dataframe\">\n  <thead>\n    <tr style=\"text-align: right;\">\n      <th></th>\n      <th>Id</th>\n      <th>algebra</th>\n      <th>programming</th>\n      <th>data science</th>\n      <th>robotics</th>\n      <th>economics</th>\n      <th>job</th>\n      <th>salary</th>\n    </tr>\n  </thead>\n  <tbody>\n    <tr>\n      <th>0</th>\n      <td>0</td>\n      <td>87</td>\n      <td>62</td>\n      <td>86</td>\n      <td>61</td>\n      <td>90</td>\n      <td>junior developer</td>\n      <td>140000</td>\n    </tr>\n    <tr>\n      <th>1</th>\n      <td>1</td>\n      <td>76</td>\n      <td>84</td>\n      <td>76</td>\n      <td>80</td>\n      <td>79</td>\n      <td>data scientist</td>\n      <td>780000</td>\n    </tr>\n    <tr>\n      <th>2</th>\n      <td>2</td>\n      <td>56</td>\n      <td>55</td>\n      <td>99</td>\n      <td>82</td>\n      <td>98</td>\n      <td>developer</td>\n      <td>210000</td>\n    </tr>\n  </tbody>\n</table>\n</div>"
     },
     "execution_count": 1554,
     "metadata": {},
     "output_type": "execute_result"
    }
   ],
   "source": [
    "import pandas as pd\n",
    "\n",
    "train_data = pd.read_csv('salary_train.csv', header=0, sep=',')\n",
    "\n",
    "train_data.head(3)"
   ],
   "metadata": {
    "collapsed": false,
    "pycharm": {
     "name": "#%%\n"
    }
   }
  },
  {
   "cell_type": "code",
   "execution_count": 1555,
   "outputs": [
    {
     "data": {
      "text/plain": "     Id  algebra  programming  data science  robotics  economics  \\\n0  9000       73           59            57        54         61   \n1  9001       77           80            53        93         80   \n2  9002       95           72            88        63         84   \n\n                 job  salary  \n0  robotics engineer       0  \n1   senior developer       0  \n2          developer       0  ",
      "text/html": "<div>\n<style scoped>\n    .dataframe tbody tr th:only-of-type {\n        vertical-align: middle;\n    }\n\n    .dataframe tbody tr th {\n        vertical-align: top;\n    }\n\n    .dataframe thead th {\n        text-align: right;\n    }\n</style>\n<table border=\"1\" class=\"dataframe\">\n  <thead>\n    <tr style=\"text-align: right;\">\n      <th></th>\n      <th>Id</th>\n      <th>algebra</th>\n      <th>programming</th>\n      <th>data science</th>\n      <th>robotics</th>\n      <th>economics</th>\n      <th>job</th>\n      <th>salary</th>\n    </tr>\n  </thead>\n  <tbody>\n    <tr>\n      <th>0</th>\n      <td>9000</td>\n      <td>73</td>\n      <td>59</td>\n      <td>57</td>\n      <td>54</td>\n      <td>61</td>\n      <td>robotics engineer</td>\n      <td>0</td>\n    </tr>\n    <tr>\n      <th>1</th>\n      <td>9001</td>\n      <td>77</td>\n      <td>80</td>\n      <td>53</td>\n      <td>93</td>\n      <td>80</td>\n      <td>senior developer</td>\n      <td>0</td>\n    </tr>\n    <tr>\n      <th>2</th>\n      <td>9002</td>\n      <td>95</td>\n      <td>72</td>\n      <td>88</td>\n      <td>63</td>\n      <td>84</td>\n      <td>developer</td>\n      <td>0</td>\n    </tr>\n  </tbody>\n</table>\n</div>"
     },
     "execution_count": 1555,
     "metadata": {},
     "output_type": "execute_result"
    }
   ],
   "source": [
    "predict_data = pd.read_csv('salary_predict.csv', header=0, sep=',')\n",
    "\n",
    "predict_data.head(3)"
   ],
   "metadata": {
    "collapsed": false,
    "pycharm": {
     "name": "#%%\n"
    }
   }
  },
  {
   "cell_type": "code",
   "execution_count": 1556,
   "outputs": [],
   "source": [
    "# проверяю наличие nan\n",
    "assert train_data.isna().sum().sum() == 0\n",
    "assert predict_data.isna().sum().sum() == 0"
   ],
   "metadata": {
    "collapsed": false,
    "pycharm": {
     "name": "#%%\n"
    }
   }
  },
  {
   "cell_type": "code",
   "execution_count": 1557,
   "outputs": [
    {
     "name": "stdout",
     "output_type": "stream",
     "text": [
      "<class 'pandas.core.frame.DataFrame'>\n",
      "RangeIndex: 9000 entries, 0 to 8999\n",
      "Data columns (total 8 columns):\n",
      " #   Column        Non-Null Count  Dtype \n",
      "---  ------        --------------  ----- \n",
      " 0   Id            9000 non-null   int64 \n",
      " 1   algebra       9000 non-null   int64 \n",
      " 2   programming   9000 non-null   int64 \n",
      " 3   data science  9000 non-null   int64 \n",
      " 4   robotics      9000 non-null   int64 \n",
      " 5   economics     9000 non-null   int64 \n",
      " 6   job           9000 non-null   object\n",
      " 7   salary        9000 non-null   int64 \n",
      "dtypes: int64(7), object(1)\n",
      "memory usage: 562.6+ KB\n"
     ]
    }
   ],
   "source": [
    "train_data.info()"
   ],
   "metadata": {
    "collapsed": false,
    "pycharm": {
     "name": "#%%\n"
    }
   }
  },
  {
   "cell_type": "code",
   "execution_count": 1558,
   "outputs": [
    {
     "name": "stdout",
     "output_type": "stream",
     "text": [
      "<class 'pandas.core.frame.DataFrame'>\n",
      "RangeIndex: 1000 entries, 0 to 999\n",
      "Data columns (total 8 columns):\n",
      " #   Column        Non-Null Count  Dtype \n",
      "---  ------        --------------  ----- \n",
      " 0   Id            1000 non-null   int64 \n",
      " 1   algebra       1000 non-null   int64 \n",
      " 2   programming   1000 non-null   int64 \n",
      " 3   data science  1000 non-null   int64 \n",
      " 4   robotics      1000 non-null   int64 \n",
      " 5   economics     1000 non-null   int64 \n",
      " 6   job           1000 non-null   object\n",
      " 7   salary        1000 non-null   int64 \n",
      "dtypes: int64(7), object(1)\n",
      "memory usage: 62.6+ KB\n"
     ]
    }
   ],
   "source": [
    "predict_data.info()"
   ],
   "metadata": {
    "collapsed": false,
    "pycharm": {
     "name": "#%%\n"
    }
   }
  },
  {
   "cell_type": "code",
   "execution_count": 1559,
   "outputs": [],
   "source": [
    "# заменяю наименования должностей на категорию\n",
    "train_jobs = train_data.job.unique()\n",
    "predict_jobs = predict_data.job.unique()\n",
    "\n",
    "assert len(train_jobs) == len(predict_jobs)\n",
    "\n",
    "for job in train_jobs:\n",
    "    assert job in predict_jobs\n",
    "\n",
    "jobs_dict = dict(zip(train_jobs, range(1, len(train_jobs) + 1)))\n",
    "\n",
    "for job in jobs_dict.keys():\n",
    "    train_data[job] = train_data.job.map({job: 1})\n",
    "    predict_data[job] = predict_data.job.map({job: 1})"
   ],
   "metadata": {
    "collapsed": false,
    "pycharm": {
     "name": "#%%\n"
    }
   }
  },
  {
   "cell_type": "code",
   "execution_count": 1560,
   "outputs": [
    {
     "data": {
      "text/plain": "   algebra  programming  data science  robotics  economics  salary  \\\n0       87           62            86        61         90  140000   \n1       76           84            76        80         79  780000   \n2       56           55            99        82         98  210000   \n3       99           66            65        84         58  420000   \n4       73           87            56        84         73  760000   \n5       59           91            52        63         54  790000   \n6       73           56            82        60         88  510000   \n7       79           52            95        83         94  450000   \n8       91           95            99        62         96  380000   \n9       98           93            66        94         64  350000   \n\n   junior developer  data scientist  developer  economist  robotics engineer  \\\n0                 1               0          0          0                  0   \n1                 0               1          0          0                  0   \n2                 0               0          1          0                  0   \n3                 0               0          0          1                  0   \n4                 0               1          0          0                  0   \n5                 0               0          0          0                  1   \n6                 0               0          0          0                  0   \n7                 0               0          0          1                  0   \n8                 0               0          1          0                  0   \n9                 0               0          1          0                  0   \n\n   senior developer  \n0                 0  \n1                 0  \n2                 0  \n3                 0  \n4                 0  \n5                 0  \n6                 1  \n7                 0  \n8                 0  \n9                 0  ",
      "text/html": "<div>\n<style scoped>\n    .dataframe tbody tr th:only-of-type {\n        vertical-align: middle;\n    }\n\n    .dataframe tbody tr th {\n        vertical-align: top;\n    }\n\n    .dataframe thead th {\n        text-align: right;\n    }\n</style>\n<table border=\"1\" class=\"dataframe\">\n  <thead>\n    <tr style=\"text-align: right;\">\n      <th></th>\n      <th>algebra</th>\n      <th>programming</th>\n      <th>data science</th>\n      <th>robotics</th>\n      <th>economics</th>\n      <th>salary</th>\n      <th>junior developer</th>\n      <th>data scientist</th>\n      <th>developer</th>\n      <th>economist</th>\n      <th>robotics engineer</th>\n      <th>senior developer</th>\n    </tr>\n  </thead>\n  <tbody>\n    <tr>\n      <th>0</th>\n      <td>87</td>\n      <td>62</td>\n      <td>86</td>\n      <td>61</td>\n      <td>90</td>\n      <td>140000</td>\n      <td>1</td>\n      <td>0</td>\n      <td>0</td>\n      <td>0</td>\n      <td>0</td>\n      <td>0</td>\n    </tr>\n    <tr>\n      <th>1</th>\n      <td>76</td>\n      <td>84</td>\n      <td>76</td>\n      <td>80</td>\n      <td>79</td>\n      <td>780000</td>\n      <td>0</td>\n      <td>1</td>\n      <td>0</td>\n      <td>0</td>\n      <td>0</td>\n      <td>0</td>\n    </tr>\n    <tr>\n      <th>2</th>\n      <td>56</td>\n      <td>55</td>\n      <td>99</td>\n      <td>82</td>\n      <td>98</td>\n      <td>210000</td>\n      <td>0</td>\n      <td>0</td>\n      <td>1</td>\n      <td>0</td>\n      <td>0</td>\n      <td>0</td>\n    </tr>\n    <tr>\n      <th>3</th>\n      <td>99</td>\n      <td>66</td>\n      <td>65</td>\n      <td>84</td>\n      <td>58</td>\n      <td>420000</td>\n      <td>0</td>\n      <td>0</td>\n      <td>0</td>\n      <td>1</td>\n      <td>0</td>\n      <td>0</td>\n    </tr>\n    <tr>\n      <th>4</th>\n      <td>73</td>\n      <td>87</td>\n      <td>56</td>\n      <td>84</td>\n      <td>73</td>\n      <td>760000</td>\n      <td>0</td>\n      <td>1</td>\n      <td>0</td>\n      <td>0</td>\n      <td>0</td>\n      <td>0</td>\n    </tr>\n    <tr>\n      <th>5</th>\n      <td>59</td>\n      <td>91</td>\n      <td>52</td>\n      <td>63</td>\n      <td>54</td>\n      <td>790000</td>\n      <td>0</td>\n      <td>0</td>\n      <td>0</td>\n      <td>0</td>\n      <td>1</td>\n      <td>0</td>\n    </tr>\n    <tr>\n      <th>6</th>\n      <td>73</td>\n      <td>56</td>\n      <td>82</td>\n      <td>60</td>\n      <td>88</td>\n      <td>510000</td>\n      <td>0</td>\n      <td>0</td>\n      <td>0</td>\n      <td>0</td>\n      <td>0</td>\n      <td>1</td>\n    </tr>\n    <tr>\n      <th>7</th>\n      <td>79</td>\n      <td>52</td>\n      <td>95</td>\n      <td>83</td>\n      <td>94</td>\n      <td>450000</td>\n      <td>0</td>\n      <td>0</td>\n      <td>0</td>\n      <td>1</td>\n      <td>0</td>\n      <td>0</td>\n    </tr>\n    <tr>\n      <th>8</th>\n      <td>91</td>\n      <td>95</td>\n      <td>99</td>\n      <td>62</td>\n      <td>96</td>\n      <td>380000</td>\n      <td>0</td>\n      <td>0</td>\n      <td>1</td>\n      <td>0</td>\n      <td>0</td>\n      <td>0</td>\n    </tr>\n    <tr>\n      <th>9</th>\n      <td>98</td>\n      <td>93</td>\n      <td>66</td>\n      <td>94</td>\n      <td>64</td>\n      <td>350000</td>\n      <td>0</td>\n      <td>0</td>\n      <td>1</td>\n      <td>0</td>\n      <td>0</td>\n      <td>0</td>\n    </tr>\n  </tbody>\n</table>\n</div>"
     },
     "execution_count": 1560,
     "metadata": {},
     "output_type": "execute_result"
    }
   ],
   "source": [
    "train_data.drop(train_data.job.name, axis=1, inplace=True)\n",
    "train_data.drop(train_data.Id.name, axis=1, inplace=True)\n",
    "\n",
    "for job in jobs_dict.keys():\n",
    "    train_data[job] = train_data[job].fillna(0)\n",
    "    train_data[job] = train_data[job].astype(int)\n",
    "\n",
    "train_data.head(10)"
   ],
   "metadata": {
    "collapsed": false,
    "pycharm": {
     "name": "#%%\n"
    }
   }
  },
  {
   "cell_type": "code",
   "execution_count": 1561,
   "outputs": [
    {
     "data": {
      "text/plain": "   algebra  programming  data science  robotics  economics  salary  \\\n0       73           59            57        54         61       0   \n1       77           80            53        93         80       0   \n2       95           72            88        63         84       0   \n3       83           88            97        75         50       0   \n4       52           85            92        87         62       0   \n\n   junior developer  data scientist  developer  economist  robotics engineer  \\\n0                 0               0          0          0                  1   \n1                 0               0          0          0                  0   \n2                 0               0          1          0                  0   \n3                 0               0          0          0                  1   \n4                 1               0          0          0                  0   \n\n   senior developer  \n0                 0  \n1                 1  \n2                 0  \n3                 0  \n4                 0  ",
      "text/html": "<div>\n<style scoped>\n    .dataframe tbody tr th:only-of-type {\n        vertical-align: middle;\n    }\n\n    .dataframe tbody tr th {\n        vertical-align: top;\n    }\n\n    .dataframe thead th {\n        text-align: right;\n    }\n</style>\n<table border=\"1\" class=\"dataframe\">\n  <thead>\n    <tr style=\"text-align: right;\">\n      <th></th>\n      <th>algebra</th>\n      <th>programming</th>\n      <th>data science</th>\n      <th>robotics</th>\n      <th>economics</th>\n      <th>salary</th>\n      <th>junior developer</th>\n      <th>data scientist</th>\n      <th>developer</th>\n      <th>economist</th>\n      <th>robotics engineer</th>\n      <th>senior developer</th>\n    </tr>\n  </thead>\n  <tbody>\n    <tr>\n      <th>0</th>\n      <td>73</td>\n      <td>59</td>\n      <td>57</td>\n      <td>54</td>\n      <td>61</td>\n      <td>0</td>\n      <td>0</td>\n      <td>0</td>\n      <td>0</td>\n      <td>0</td>\n      <td>1</td>\n      <td>0</td>\n    </tr>\n    <tr>\n      <th>1</th>\n      <td>77</td>\n      <td>80</td>\n      <td>53</td>\n      <td>93</td>\n      <td>80</td>\n      <td>0</td>\n      <td>0</td>\n      <td>0</td>\n      <td>0</td>\n      <td>0</td>\n      <td>0</td>\n      <td>1</td>\n    </tr>\n    <tr>\n      <th>2</th>\n      <td>95</td>\n      <td>72</td>\n      <td>88</td>\n      <td>63</td>\n      <td>84</td>\n      <td>0</td>\n      <td>0</td>\n      <td>0</td>\n      <td>1</td>\n      <td>0</td>\n      <td>0</td>\n      <td>0</td>\n    </tr>\n    <tr>\n      <th>3</th>\n      <td>83</td>\n      <td>88</td>\n      <td>97</td>\n      <td>75</td>\n      <td>50</td>\n      <td>0</td>\n      <td>0</td>\n      <td>0</td>\n      <td>0</td>\n      <td>0</td>\n      <td>1</td>\n      <td>0</td>\n    </tr>\n    <tr>\n      <th>4</th>\n      <td>52</td>\n      <td>85</td>\n      <td>92</td>\n      <td>87</td>\n      <td>62</td>\n      <td>0</td>\n      <td>1</td>\n      <td>0</td>\n      <td>0</td>\n      <td>0</td>\n      <td>0</td>\n      <td>0</td>\n    </tr>\n  </tbody>\n</table>\n</div>"
     },
     "execution_count": 1561,
     "metadata": {},
     "output_type": "execute_result"
    }
   ],
   "source": [
    "predict_data.drop(predict_data.job.name, axis=1, inplace=True)\n",
    "ids = predict_data.Id\n",
    "predict_data.drop(predict_data.Id.name, axis=1, inplace=True)\n",
    "\n",
    "for job in jobs_dict.keys():\n",
    "    predict_data[job] = predict_data[job].fillna(0)\n",
    "    predict_data[job] = predict_data[job].astype(int)\n",
    "\n",
    "predict_data.head()"
   ],
   "metadata": {
    "collapsed": false,
    "pycharm": {
     "name": "#%%\n"
    }
   }
  },
  {
   "cell_type": "code",
   "execution_count": 1562,
   "outputs": [],
   "source": [
    "# разбиваю данные на X & y\n",
    "\n",
    "X_train = train_data.drop(train_data.salary.name, axis=1)\n",
    "y_train = train_data.salary\n",
    "\n",
    "X_predict = predict_data.drop(predict_data.salary.name, axis=1)"
   ],
   "metadata": {
    "collapsed": false,
    "pycharm": {
     "name": "#%%\n"
    }
   }
  },
  {
   "cell_type": "code",
   "execution_count": 1563,
   "outputs": [
    {
     "data": {
      "text/plain": "         0         1         2         3         4         5         6   \\\n0  0.864853 -0.862748  0.812448 -0.936176  1.067866  2.266047 -0.443272   \n1  0.104661  0.655675  0.115074  0.386751  0.304085 -0.441297  2.255950   \n2 -1.277506 -1.345883  1.719034  0.526007  1.623343 -0.441297 -0.443272   \n\n         7         8         9         10  \n0 -0.452213 -0.446677 -0.454884 -0.444886  \n1 -0.452213 -0.446677 -0.454884 -0.444886  \n2  2.211346 -0.446677 -0.454884 -0.444886  ",
      "text/html": "<div>\n<style scoped>\n    .dataframe tbody tr th:only-of-type {\n        vertical-align: middle;\n    }\n\n    .dataframe tbody tr th {\n        vertical-align: top;\n    }\n\n    .dataframe thead th {\n        text-align: right;\n    }\n</style>\n<table border=\"1\" class=\"dataframe\">\n  <thead>\n    <tr style=\"text-align: right;\">\n      <th></th>\n      <th>0</th>\n      <th>1</th>\n      <th>2</th>\n      <th>3</th>\n      <th>4</th>\n      <th>5</th>\n      <th>6</th>\n      <th>7</th>\n      <th>8</th>\n      <th>9</th>\n      <th>10</th>\n    </tr>\n  </thead>\n  <tbody>\n    <tr>\n      <th>0</th>\n      <td>0.864853</td>\n      <td>-0.862748</td>\n      <td>0.812448</td>\n      <td>-0.936176</td>\n      <td>1.067866</td>\n      <td>2.266047</td>\n      <td>-0.443272</td>\n      <td>-0.452213</td>\n      <td>-0.446677</td>\n      <td>-0.454884</td>\n      <td>-0.444886</td>\n    </tr>\n    <tr>\n      <th>1</th>\n      <td>0.104661</td>\n      <td>0.655675</td>\n      <td>0.115074</td>\n      <td>0.386751</td>\n      <td>0.304085</td>\n      <td>-0.441297</td>\n      <td>2.255950</td>\n      <td>-0.452213</td>\n      <td>-0.446677</td>\n      <td>-0.454884</td>\n      <td>-0.444886</td>\n    </tr>\n    <tr>\n      <th>2</th>\n      <td>-1.277506</td>\n      <td>-1.345883</td>\n      <td>1.719034</td>\n      <td>0.526007</td>\n      <td>1.623343</td>\n      <td>-0.441297</td>\n      <td>-0.443272</td>\n      <td>2.211346</td>\n      <td>-0.446677</td>\n      <td>-0.454884</td>\n      <td>-0.444886</td>\n    </tr>\n  </tbody>\n</table>\n</div>"
     },
     "execution_count": 1563,
     "metadata": {},
     "output_type": "execute_result"
    }
   ],
   "source": [
    "from sklearn import preprocessing\n",
    "\n",
    "scaler = preprocessing.StandardScaler().fit(X_train)\n",
    "\n",
    "X_train_scaled = pd.DataFrame(scaler.transform(X_train))\n",
    "\n",
    "X_train_scaled.head(3)"
   ],
   "metadata": {
    "collapsed": false,
    "pycharm": {
     "name": "#%%\n"
    }
   }
  },
  {
   "cell_type": "code",
   "execution_count": 1564,
   "outputs": [
    {
     "data": {
      "text/plain": "         0         1         2         3         4        5         6   \\\n0 -0.099726 -1.164134 -1.302828 -1.413091 -0.929077 -0.45897 -0.463753   \n1  0.180207  0.323532 -1.589637  1.325730  0.357827 -0.45897 -0.463753   \n2  1.439909 -0.243198  0.919939 -0.781056  0.628755 -0.45897 -0.463753   \n\n         7         8         9         10  \n0 -0.431555 -0.444528  2.266047 -0.442913  \n1 -0.431555 -0.444528 -0.441297  2.257778  \n2  2.317202 -0.444528 -0.441297 -0.442913  ",
      "text/html": "<div>\n<style scoped>\n    .dataframe tbody tr th:only-of-type {\n        vertical-align: middle;\n    }\n\n    .dataframe tbody tr th {\n        vertical-align: top;\n    }\n\n    .dataframe thead th {\n        text-align: right;\n    }\n</style>\n<table border=\"1\" class=\"dataframe\">\n  <thead>\n    <tr style=\"text-align: right;\">\n      <th></th>\n      <th>0</th>\n      <th>1</th>\n      <th>2</th>\n      <th>3</th>\n      <th>4</th>\n      <th>5</th>\n      <th>6</th>\n      <th>7</th>\n      <th>8</th>\n      <th>9</th>\n      <th>10</th>\n    </tr>\n  </thead>\n  <tbody>\n    <tr>\n      <th>0</th>\n      <td>-0.099726</td>\n      <td>-1.164134</td>\n      <td>-1.302828</td>\n      <td>-1.413091</td>\n      <td>-0.929077</td>\n      <td>-0.45897</td>\n      <td>-0.463753</td>\n      <td>-0.431555</td>\n      <td>-0.444528</td>\n      <td>2.266047</td>\n      <td>-0.442913</td>\n    </tr>\n    <tr>\n      <th>1</th>\n      <td>0.180207</td>\n      <td>0.323532</td>\n      <td>-1.589637</td>\n      <td>1.325730</td>\n      <td>0.357827</td>\n      <td>-0.45897</td>\n      <td>-0.463753</td>\n      <td>-0.431555</td>\n      <td>-0.444528</td>\n      <td>-0.441297</td>\n      <td>2.257778</td>\n    </tr>\n    <tr>\n      <th>2</th>\n      <td>1.439909</td>\n      <td>-0.243198</td>\n      <td>0.919939</td>\n      <td>-0.781056</td>\n      <td>0.628755</td>\n      <td>-0.45897</td>\n      <td>-0.463753</td>\n      <td>2.317202</td>\n      <td>-0.444528</td>\n      <td>-0.441297</td>\n      <td>-0.442913</td>\n    </tr>\n  </tbody>\n</table>\n</div>"
     },
     "execution_count": 1564,
     "metadata": {},
     "output_type": "execute_result"
    }
   ],
   "source": [
    "scaler = preprocessing.StandardScaler().fit(X_predict)\n",
    "\n",
    "X_predict_scaled = pd.DataFrame(scaler.transform(X_predict))\n",
    "\n",
    "X_predict_scaled.head(3)"
   ],
   "metadata": {
    "collapsed": false,
    "pycharm": {
     "name": "#%%\n"
    }
   }
  },
  {
   "cell_type": "code",
   "execution_count": 1565,
   "outputs": [
    {
     "data": {
      "text/plain": "0    140000\n1    780000\n2    210000\nName: salary, dtype: int64"
     },
     "execution_count": 1565,
     "metadata": {},
     "output_type": "execute_result"
    }
   ],
   "source": [
    "y_train.head(3)"
   ],
   "metadata": {
    "collapsed": false,
    "pycharm": {
     "name": "#%%\n"
    }
   }
  },
  {
   "cell_type": "code",
   "execution_count": 1566,
   "outputs": [
    {
     "data": {
      "text/plain": "RandomForestRegressor(n_jobs=-1)"
     },
     "execution_count": 1566,
     "metadata": {},
     "output_type": "execute_result"
    }
   ],
   "source": [
    "from sklearn.ensemble import RandomForestRegressor\n",
    "from sklearn.model_selection import train_test_split\n",
    "model = RandomForestRegressor(n_jobs=-1)\n",
    "model.fit(X_train_scaled, y_train)"
   ],
   "metadata": {
    "collapsed": false,
    "pycharm": {
     "name": "#%%\n"
    }
   }
  },
  {
   "cell_type": "code",
   "execution_count": 1567,
   "outputs": [
    {
     "data": {
      "text/plain": "       Id     salary\n0    9000   690000.0\n1    9001   553600.0\n2    9002   328800.0\n3    9003  1000000.0\n4    9004   145600.0\n..    ...        ...\n995  9995   181700.0\n996  9996   368300.0\n997  9997   329500.0\n998  9998   134100.0\n999  9999   851000.0\n\n[1000 rows x 2 columns]",
      "text/html": "<div>\n<style scoped>\n    .dataframe tbody tr th:only-of-type {\n        vertical-align: middle;\n    }\n\n    .dataframe tbody tr th {\n        vertical-align: top;\n    }\n\n    .dataframe thead th {\n        text-align: right;\n    }\n</style>\n<table border=\"1\" class=\"dataframe\">\n  <thead>\n    <tr style=\"text-align: right;\">\n      <th></th>\n      <th>Id</th>\n      <th>salary</th>\n    </tr>\n  </thead>\n  <tbody>\n    <tr>\n      <th>0</th>\n      <td>9000</td>\n      <td>690000.0</td>\n    </tr>\n    <tr>\n      <th>1</th>\n      <td>9001</td>\n      <td>553600.0</td>\n    </tr>\n    <tr>\n      <th>2</th>\n      <td>9002</td>\n      <td>328800.0</td>\n    </tr>\n    <tr>\n      <th>3</th>\n      <td>9003</td>\n      <td>1000000.0</td>\n    </tr>\n    <tr>\n      <th>4</th>\n      <td>9004</td>\n      <td>145600.0</td>\n    </tr>\n    <tr>\n      <th>...</th>\n      <td>...</td>\n      <td>...</td>\n    </tr>\n    <tr>\n      <th>995</th>\n      <td>9995</td>\n      <td>181700.0</td>\n    </tr>\n    <tr>\n      <th>996</th>\n      <td>9996</td>\n      <td>368300.0</td>\n    </tr>\n    <tr>\n      <th>997</th>\n      <td>9997</td>\n      <td>329500.0</td>\n    </tr>\n    <tr>\n      <th>998</th>\n      <td>9998</td>\n      <td>134100.0</td>\n    </tr>\n    <tr>\n      <th>999</th>\n      <td>9999</td>\n      <td>851000.0</td>\n    </tr>\n  </tbody>\n</table>\n<p>1000 rows × 2 columns</p>\n</div>"
     },
     "execution_count": 1567,
     "metadata": {},
     "output_type": "execute_result"
    }
   ],
   "source": [
    "y_predict = pd.DataFrame(ids)\n",
    "y_predict['salary'] = model.predict(X_predict_scaled)\n",
    "y_predict.loc[y_predict.salary > 1000000, y_predict.salary.name] = 1000000\n",
    "\n",
    "y_predict.to_csv('salary_submition.csv', sep=',', header=True, index=False)\n",
    "\n",
    "y_predict"
   ],
   "metadata": {
    "collapsed": false,
    "pycharm": {
     "name": "#%%\n"
    }
   }
  }
 ],
 "metadata": {
  "kernelspec": {
   "display_name": "Python 3",
   "language": "python",
   "name": "python3"
  },
  "language_info": {
   "codemirror_mode": {
    "name": "ipython",
    "version": 2
   },
   "file_extension": ".py",
   "mimetype": "text/x-python",
   "name": "python",
   "nbconvert_exporter": "python",
   "pygments_lexer": "ipython2",
   "version": "2.7.6"
  }
 },
 "nbformat": 4,
 "nbformat_minor": 0
}